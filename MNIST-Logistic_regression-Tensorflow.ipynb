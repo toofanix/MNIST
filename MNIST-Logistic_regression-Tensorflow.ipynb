{
 "cells": [
  {
   "cell_type": "markdown",
   "metadata": {},
   "source": [
    "### Doing Logistic Regression on MNIST in Tensorflow\n"
   ]
  },
  {
   "cell_type": "code",
   "execution_count": 1,
   "metadata": {
    "collapsed": true
   },
   "outputs": [],
   "source": [
    "import tensorflow as tf\n",
    "import numpy as np\n",
    "from tensorflow.examples.tutorials.mnist import input_data"
   ]
  },
  {
   "cell_type": "code",
   "execution_count": 8,
   "metadata": {
    "collapsed": false
   },
   "outputs": [
    {
     "name": "stdout",
     "output_type": "stream",
     "text": [
      "Extracting MNIST_data/train-images-idx3-ubyte.gz\n",
      "Extracting MNIST_data/train-labels-idx1-ubyte.gz\n",
      "Extracting MNIST_data/t10k-images-idx3-ubyte.gz\n",
      "Extracting MNIST_data/t10k-labels-idx1-ubyte.gz\n"
     ]
    }
   ],
   "source": [
    "mnist = input_data.read_data_sets('MNIST_data/',one_hot=True)\n",
    "\n",
    "#Separating training and test data\n",
    "train_X = mnist.train.images\n",
    "train_y = mnist.train.labels\n",
    "test_X = mnist.test.images\n",
    "test_y = mnist.test.labels\n",
    "\n",
    "# No. of training cycles, and batchsize for feeding the net\n",
    "epoch = 15000\n",
    "batch_size = 256\n",
    "\n",
    "\n",
    "#Placeholders for feeding bacthes\n",
    "X = tf.placeholder(\"float\",[None,784])\n",
    "y = tf.placeholder(\"float\",[None,10])\n",
    "\n",
    "# Weights and biases\n",
    "weights = tf.Variable(tf.random_normal([784,10],stddev=0.01))\n",
    "biases = tf.Variable(tf.random_normal([10],stddev=0.01))\n",
    "\n",
    "# Model \n",
    "pred = tf.add(tf.matmul(X,weights),biases)"
   ]
  },
  {
   "cell_type": "code",
   "execution_count": 11,
   "metadata": {
    "collapsed": true
   },
   "outputs": [],
   "source": [
    "# Optimization routine\n",
    "cost = tf.reduce_mean(tf.nn.softmax_cross_entropy_with_logits(pred,y))\n",
    "optimizer = tf.train.GradientDescentOptimizer(0.01).minimize(cost)\n",
    "\n",
    "# Estimating accuracy\n",
    "correct_pred = tf.equal(tf.argmax(pred,1),tf.argmax(y,1))\n",
    "accuracy = tf.reduce_mean(tf.cast(correct_pred,tf.float32))"
   ]
  },
  {
   "cell_type": "markdown",
   "metadata": {},
   "source": [
    "### Running the optimation"
   ]
  },
  {
   "cell_type": "code",
   "execution_count": 12,
   "metadata": {
    "collapsed": false
   },
   "outputs": [
    {
     "name": "stdout",
     "output_type": "stream",
     "text": [
      "Cost = 2.3141534328460693, Training accuracy = 0.06640625\n",
      "Cost = 0.6079533100128174, Training accuracy = 0.8671875\n",
      "Cost = 0.48205864429473877, Training accuracy = 0.88671875\n",
      "Cost = 0.46758541464805603, Training accuracy = 0.87109375\n",
      "Cost = 0.4569167196750641, Training accuracy = 0.875\n",
      "Cost = 0.3925287425518036, Training accuracy = 0.90234375\n",
      "Cost = 0.3436003029346466, Training accuracy = 0.90625\n",
      "Cost = 0.39893823862075806, Training accuracy = 0.88671875\n",
      "Cost = 0.3628058433532715, Training accuracy = 0.90625\n",
      "Cost = 0.39349615573883057, Training accuracy = 0.88671875\n",
      "Cost = 0.34873002767562866, Training accuracy = 0.9296875\n",
      "Cost = 0.3287630081176758, Training accuracy = 0.9296875\n",
      "Cost = 0.39519429206848145, Training accuracy = 0.90625\n",
      "Cost = 0.2967059016227722, Training accuracy = 0.9296875\n",
      "Cost = 0.3574120104312897, Training accuracy = 0.88671875\n",
      "TEST ACCURACY = 0.9147999882698059\n"
     ]
    }
   ],
   "source": [
    "init = tf.global_variables_initializer()\n",
    "with tf.Session() as sess:\n",
    "    sess.run(init)\n",
    "    for i in range(epoch):\n",
    "        x_batch, y_batch = mnist.train.next_batch(batch_size)\n",
    "        sess.run(optimizer,feed_dict={X:x_batch, y:y_batch})\n",
    "        \n",
    "        if i%1000==0:\n",
    "            loss,acc = sess.run([cost,accuracy],feed_dict={X:x_batch,y:y_batch})\n",
    "            print (\"Cost = {0}, Training accuracy = {1}\".format(loss,acc))\n",
    "     \n",
    "    test_acc = sess.run(accuracy,feed_dict={X:mnist.test.images,y:mnist.test.labels})\n",
    "    print (\"TEST ACCURACY = {}\".format(test_acc))"
   ]
  }
 ],
 "metadata": {
  "kernelspec": {
   "display_name": "Python 3",
   "language": "python",
   "name": "python3"
  },
  "language_info": {
   "codemirror_mode": {
    "name": "ipython",
    "version": 3
   },
   "file_extension": ".py",
   "mimetype": "text/x-python",
   "name": "python",
   "nbconvert_exporter": "python",
   "pygments_lexer": "ipython3",
   "version": "3.5.1"
  }
 },
 "nbformat": 4,
 "nbformat_minor": 2
}
