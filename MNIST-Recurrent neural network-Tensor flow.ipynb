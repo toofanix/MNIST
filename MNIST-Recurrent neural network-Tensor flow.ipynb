{
 "cells": [
  {
   "cell_type": "markdown",
   "metadata": {},
   "source": [
    "## MNIST - Recurrent Neural Network\n",
    "\n",
    "Inspired from :\n",
    "    \n",
    "https://github.com/aymericdamien/TensorFlow-Examples"
   ]
  },
  {
   "cell_type": "code",
   "execution_count": 1,
   "metadata": {
    "collapsed": true
   },
   "outputs": [],
   "source": [
    "import tensorflow as tf\n",
    "import numpy as np\n",
    "from tensorflow.examples.tutorials.mnist import input_data"
   ]
  },
  {
   "cell_type": "code",
   "execution_count": 2,
   "metadata": {
    "collapsed": false
   },
   "outputs": [
    {
     "name": "stdout",
     "output_type": "stream",
     "text": [
      "Extracting /tmp/data/train-images-idx3-ubyte.gz\n",
      "Extracting /tmp/data/train-labels-idx1-ubyte.gz\n",
      "Extracting /tmp/data/t10k-images-idx3-ubyte.gz\n",
      "Extracting /tmp/data/t10k-labels-idx1-ubyte.gz\n"
     ]
    }
   ],
   "source": [
    "mnist = input_data.read_data_sets('/tmp/data',one_hot=True)"
   ]
  },
  {
   "cell_type": "code",
   "execution_count": 3,
   "metadata": {
    "collapsed": false
   },
   "outputs": [],
   "source": [
    "# No. of training cycles and bacth-size\n",
    "training_epochs = 100000\n",
    "batch_size = 128\n",
    "display_step = 50\n",
    "\n",
    "#Net parameters\n",
    "n_input = 28\n",
    "n_steps = 28\n",
    "n_hidden = 256\n",
    "n_classes = 10\n",
    "\n",
    "#Placeholder for feeding the net\n",
    "x = tf.placeholder(\"float\",[None,n_steps,n_input])\n",
    "y = tf.placeholder(\"float\",[None,n_classes])\n",
    "\n",
    "#Weights and biases \n",
    "weights = {'out':tf.Variable(tf.random_normal([n_hidden,n_classes]))}\n",
    "biases = {'out':tf.Variable(tf.random_normal([n_classes]))}\n"
   ]
  },
  {
   "cell_type": "markdown",
   "metadata": {},
   "source": [
    "Each image is 28 X 28 pixels. We consider each row at a sequence with 28 time-steps. Hence, each image will have 28 sequences with 28 steps."
   ]
  },
  {
   "cell_type": "markdown",
   "metadata": {},
   "source": [
    "#### Understanding the input\n",
    "I am using a batch size of 128. Hence, the input will have dimensions of (128,28,28). The LSTM cell requires a list of tensors. In our case the list will have 28 tensors(equal to number of time-steps) with each tensor of dimension (128 X 28). The function below reshapes the input, and return the model for RNN."
   ]
  },
  {
   "cell_type": "code",
   "execution_count": 4,
   "metadata": {
    "collapsed": true
   },
   "outputs": [],
   "source": [
    "def RNN1(x,weights,biases):\n",
    "    x = tf.transpose(x,[1,0,2])\n",
    "    x = tf.reshape(x,[-1,n_input])\n",
    "    x = tf.split(0,n_steps,x)\n",
    "    \n",
    "    lstm_cell = tf.nn.rnn_cell.BasicLSTMCell(n_hidden,forget_bias=1.0)\n",
    "    \n",
    "    outputs, states = tf.nn.rnn(lstm_cell,x,dtype=tf.float32,scope='reuse')\n",
    "    \n",
    "    return(tf.matmul(outputs[-1],weights['out'])+biases['out'])"
   ]
  },
  {
   "cell_type": "code",
   "execution_count": 5,
   "metadata": {
    "collapsed": false
   },
   "outputs": [],
   "source": [
    "# Creating the RNN\n",
    "pred = RNN1(x,weights,biases)\n",
    "\n",
    "#Optimization routine\n",
    "cost = tf.reduce_mean(tf.nn.softmax_cross_entropy_with_logits(pred,y))\n",
    "optimizer = tf.train.AdamOptimizer(0.001).minimize(cost)\n",
    "\n",
    "#Estimating Accuracy\n",
    "correct_pred = tf.equal(tf.argmax(pred,1),tf.argmax(y,1))\n",
    "accuracy = tf.reduce_mean(tf.cast(correct_pred,tf.float32))"
   ]
  },
  {
   "cell_type": "markdown",
   "metadata": {},
   "source": [
    "### Running the net"
   ]
  },
  {
   "cell_type": "code",
   "execution_count": 6,
   "metadata": {
    "collapsed": false
   },
   "outputs": [
    {
     "name": "stdout",
     "output_type": "stream",
     "text": [
      "Iterations :  6400, Minibatch = 0.565575, Training Accuracy = 0.81250\n",
      "Iterations :  12800, Minibatch = 0.522545, Training Accuracy = 0.81250\n",
      "Iterations :  19200, Minibatch = 0.165956, Training Accuracy = 0.93750\n",
      "Iterations :  25600, Minibatch = 0.308126, Training Accuracy = 0.92188\n",
      "Iterations :  32000, Minibatch = 0.140764, Training Accuracy = 0.93750\n",
      "Iterations :  38400, Minibatch = 0.103299, Training Accuracy = 0.95312\n",
      "Iterations :  44800, Minibatch = 0.144201, Training Accuracy = 0.94531\n",
      "Iterations :  51200, Minibatch = 0.120480, Training Accuracy = 0.96875\n",
      "Iterations :  57600, Minibatch = 0.107253, Training Accuracy = 0.96875\n",
      "Iterations :  64000, Minibatch = 0.085129, Training Accuracy = 0.96875\n",
      "Iterations :  70400, Minibatch = 0.062726, Training Accuracy = 0.99219\n",
      "Iterations :  76800, Minibatch = 0.093519, Training Accuracy = 0.97656\n",
      "Iterations :  83200, Minibatch = 0.031503, Training Accuracy = 0.98438\n",
      "Iterations :  89600, Minibatch = 0.128479, Training Accuracy = 0.95312\n",
      "Iterations :  96000, Minibatch = 0.075365, Training Accuracy = 0.97656\n",
      "Optimization Finished!\n",
      "Testing Accuracy = 0.9921875\n"
     ]
    }
   ],
   "source": [
    "init = tf.global_variables_initializer()\n",
    "with tf.Session() as sess:\n",
    "    sess.run(init)\n",
    "    step = 1\n",
    "    while step * batch_size < training_epochs:\n",
    "        batch_x, batch_y = mnist.train.next_batch(batch_size)\n",
    "        \n",
    "        batch_x = batch_x.reshape((batch_size,n_steps,n_input))\n",
    "        \n",
    "        sess.run(optimizer,feed_dict={x:batch_x,y:batch_y})\n",
    "        \n",
    "        if step % display_step == 0:\n",
    "            acc = sess.run(accuracy, feed_dict = {x:batch_x,y:batch_y})\n",
    "            loss = sess.run(cost,feed_dict = {x:batch_x,y:batch_y})\n",
    "            print (\"Iterations :  \"+str(step*batch_size) + \n",
    "                  \", Minibatch = {:.6f}\".format(loss)+\n",
    "                  \", Training Accuracy = {:.5f}\".format(acc))\n",
    "            \n",
    "        step += 1\n",
    "        \n",
    "    print (\"Optimization Finished!\")\n",
    "    \n",
    "    test_len = 128\n",
    "    test_data = mnist.test.images[:test_len].reshape((-1,n_steps,n_input))\n",
    "    test_label = mnist.test.labels[:test_len]\n",
    "    \n",
    "    print (\"Testing Accuracy = {}\".format(sess.run(accuracy,feed_dict={x:test_data,y:test_label})))\n",
    "        "
   ]
  },
  {
   "cell_type": "code",
   "execution_count": null,
   "metadata": {
    "collapsed": true
   },
   "outputs": [],
   "source": []
  },
  {
   "cell_type": "code",
   "execution_count": null,
   "metadata": {
    "collapsed": true
   },
   "outputs": [],
   "source": []
  }
 ],
 "metadata": {
  "kernelspec": {
   "display_name": "Python 3",
   "language": "python",
   "name": "python3"
  },
  "language_info": {
   "codemirror_mode": {
    "name": "ipython",
    "version": 3
   },
   "file_extension": ".py",
   "mimetype": "text/x-python",
   "name": "python",
   "nbconvert_exporter": "python",
   "pygments_lexer": "ipython3",
   "version": "3.5.1"
  }
 },
 "nbformat": 4,
 "nbformat_minor": 2
}
