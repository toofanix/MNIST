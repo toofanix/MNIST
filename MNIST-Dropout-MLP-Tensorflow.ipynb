{
 "cells": [
  {
   "cell_type": "markdown",
   "metadata": {},
   "source": [
    "### Analyzing MNIST - with dropout- MLP - Tensorflow"
   ]
  },
  {
   "cell_type": "code",
   "execution_count": 11,
   "metadata": {
    "collapsed": true
   },
   "outputs": [],
   "source": [
    "import tensorflow as tf\n",
    "import numpy as np\n",
    "from tensorflow.examples.tutorials.mnist import input_data"
   ]
  },
  {
   "cell_type": "code",
   "execution_count": 12,
   "metadata": {
    "collapsed": false
   },
   "outputs": [
    {
     "name": "stdout",
     "output_type": "stream",
     "text": [
      "Extracting MNIST_data/train-images-idx3-ubyte.gz\n",
      "Extracting MNIST_data/train-labels-idx1-ubyte.gz\n",
      "Extracting MNIST_data/t10k-images-idx3-ubyte.gz\n",
      "Extracting MNIST_data/t10k-labels-idx1-ubyte.gz\n"
     ]
    }
   ],
   "source": [
    "mnist = input_data.read_data_sets('MNIST_data/',one_hot=True)\n"
   ]
  },
  {
   "cell_type": "code",
   "execution_count": 13,
   "metadata": {
    "collapsed": false
   },
   "outputs": [],
   "source": [
    "# No. of training cycles \n",
    "epochs = 10000\n",
    "batch_size = 128\n",
    "\n",
    "# Size of input and output layer\n",
    "input_layer = mnist.train.images.shape[1]\n",
    "output_classes = mnist.train.labels.shape[1]\n",
    "\n",
    "#Placeholders for feeding the net.\n",
    "#drop are for how much data to retain.\n",
    "x = tf.placeholder(\"float\",[None,input_layer])\n",
    "y = tf.placeholder(\"float\",[None,output_classes])\n",
    "input_drop = tf.placeholder(\"float\")\n",
    "hidden_drop = tf.placeholder(\"float\")\n"
   ]
  },
  {
   "cell_type": "code",
   "execution_count": 14,
   "metadata": {
    "collapsed": true
   },
   "outputs": [],
   "source": [
    "#Weights and biases for the layers.\n",
    "#Here there are two hidden layers of size 625 each. \n",
    "w_h_1 = tf.Variable(tf.random_normal([784,625],stddev=0.01))\n",
    "w_h_2 = tf.Variable(tf.random_normal([625,625],stddev=0.01))\n",
    "w_out = tf.Variable(tf.random_normal([625,10],stddev=0.01))\n",
    "\n",
    "b_h_1 = tf.Variable(tf.random_normal([625],stddev=0.01))\n",
    "b_h_2 = tf.Variable(tf.random_normal([625],stddev=0.01))\n",
    "b_out = tf.Variable(tf.random_normal([10],stddev=0.01))"
   ]
  },
  {
   "cell_type": "code",
   "execution_count": 15,
   "metadata": {
    "collapsed": true
   },
   "outputs": [],
   "source": [
    "#Creating the model\n",
    "x = tf.nn.dropout(x,input_drop)\n",
    "\n",
    "h_1 = tf.nn.dropout(tf.nn.relu(tf.add(tf.matmul(x,w_h_1),b_h_1)),hidden_drop)\n",
    "\n",
    "h_2 = tf.nn.dropout(tf.nn.relu(tf.add(tf.matmul(h_1,w_h_2),b_h_2)),hidden_drop)\n",
    "\n",
    "pred = tf.add(tf.matmul(h_2,w_out),b_out)"
   ]
  },
  {
   "cell_type": "code",
   "execution_count": 16,
   "metadata": {
    "collapsed": true
   },
   "outputs": [],
   "source": [
    "#Optimization routine\n",
    "cost = tf.reduce_mean(tf.nn.softmax_cross_entropy_with_logits(pred,y))\n",
    "optimizer = tf.train.RMSPropOptimizer(0.001,0.9).minimize(cost)\n",
    "\n",
    "#Estimating the accuracy\n",
    "correct_pred = tf.equal(tf.argmax(pred,1),tf.argmax(y,1))\n",
    "accuracy = tf.reduce_mean(tf.cast(correct_pred,tf.float32))"
   ]
  },
  {
   "cell_type": "markdown",
   "metadata": {},
   "source": [
    "### Running the net"
   ]
  },
  {
   "cell_type": "code",
   "execution_count": 17,
   "metadata": {
    "collapsed": false
   },
   "outputs": [
    {
     "name": "stdout",
     "output_type": "stream",
     "text": [
      "Cost = 2.3026914596557617, Training Accuracy = 0.0859375\n",
      "Cost = 0.16178613901138306, Training Accuracy = 0.9375\n",
      "Cost = 0.07471132278442383, Training Accuracy = 0.9765625\n",
      "Cost = 0.02366497740149498, Training Accuracy = 0.9921875\n",
      "Cost = 0.01915726810693741, Training Accuracy = 1.0\n",
      "Cost = 0.014960860833525658, Training Accuracy = 1.0\n",
      "Cost = 0.05158645287156105, Training Accuracy = 0.984375\n",
      "Cost = 0.016518453136086464, Training Accuracy = 0.9921875\n",
      "Cost = 0.14450442790985107, Training Accuracy = 0.984375\n",
      "Cost = 0.050117377191782, Training Accuracy = 0.9765625\n",
      "Cost = 0.026432961225509644, Training Accuracy = 0.9921875\n",
      "Cost = 0.05444350838661194, Training Accuracy = 0.984375\n",
      "Cost = 0.03180399909615517, Training Accuracy = 0.984375\n",
      "Cost = 0.01585586927831173, Training Accuracy = 0.9921875\n",
      "Cost = 0.0030426890589296818, Training Accuracy = 1.0\n",
      "Cost = 0.050446055829524994, Training Accuracy = 0.9921875\n",
      "Cost = 0.04797373339533806, Training Accuracy = 0.9921875\n",
      "Cost = 0.0021484289318323135, Training Accuracy = 1.0\n",
      "Cost = 0.027784114703536034, Training Accuracy = 0.9921875\n",
      "Cost = 0.004973079077899456, Training Accuracy = 1.0\n",
      "TEST ACCURACY = 0.9850999712944031\n"
     ]
    }
   ],
   "source": [
    "init = tf.global_variables_initializer()\n",
    "\n",
    "with tf.Session() as sess:\n",
    "    sess.run(init)\n",
    "    \n",
    "    for epoch in range(epochs):\n",
    "        \n",
    "        batch_x, batch_y = mnist.train.next_batch(batch_size)\n",
    "        sess.run(optimizer,feed_dict={x:batch_x,y:batch_y,input_drop:0.8,hidden_drop:0.5})\n",
    "        \n",
    "\n",
    "        if epoch % 500 == 0 :\n",
    "            loss,acc = sess.run([cost,accuracy],feed_dict={x:batch_x,y:batch_y,input_drop:0.8,hidden_drop:0.5})\n",
    "            print (\"Cost = {0}, Training Accuracy = {1}\".format(loss,acc))\n",
    "      \n",
    "    test_acc = sess.run(accuracy,feed_dict={x:mnist.test.images,\n",
    "                                            y:mnist.test.labels,\n",
    "                                            input_drop:1.0,hidden_drop:1.0})\n",
    "    print (\"TEST ACCURACY = {}\".format(test_acc))\n",
    "        \n",
    "        "
   ]
  },
  {
   "cell_type": "code",
   "execution_count": null,
   "metadata": {
    "collapsed": true
   },
   "outputs": [],
   "source": []
  }
 ],
 "metadata": {
  "kernelspec": {
   "display_name": "Python 3",
   "language": "python",
   "name": "python3"
  },
  "language_info": {
   "codemirror_mode": {
    "name": "ipython",
    "version": 3
   },
   "file_extension": ".py",
   "mimetype": "text/x-python",
   "name": "python",
   "nbconvert_exporter": "python",
   "pygments_lexer": "ipython3",
   "version": "3.5.1"
  }
 },
 "nbformat": 4,
 "nbformat_minor": 2
}
