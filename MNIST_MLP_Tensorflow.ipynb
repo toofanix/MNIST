{
 "cells": [
  {
   "cell_type": "markdown",
   "metadata": {},
   "source": [
    "## MNIST - Multi-Layer-Perceptron - Tensorflow"
   ]
  },
  {
   "cell_type": "code",
   "execution_count": 1,
   "metadata": {
    "collapsed": true
   },
   "outputs": [],
   "source": [
    "import tensorflow as tf\n",
    "import numpy as np\n",
    "from tensorflow.examples.tutorials.mnist import input_data"
   ]
  },
  {
   "cell_type": "code",
   "execution_count": 2,
   "metadata": {
    "collapsed": false
   },
   "outputs": [
    {
     "name": "stdout",
     "output_type": "stream",
     "text": [
      "Extracting MNIST_data/train-images-idx3-ubyte.gz\n",
      "Extracting MNIST_data/train-labels-idx1-ubyte.gz\n",
      "Extracting MNIST_data/t10k-images-idx3-ubyte.gz\n",
      "Extracting MNIST_data/t10k-labels-idx1-ubyte.gz\n"
     ]
    }
   ],
   "source": [
    "mnist = input_data.read_data_sets('MNIST_data/',one_hot=True)"
   ]
  },
  {
   "cell_type": "code",
   "execution_count": 35,
   "metadata": {
    "collapsed": false
   },
   "outputs": [],
   "source": [
    "# No. of training cycles and batches to feed the net\n",
    "epochs = 5000\n",
    "batch_size = 256\n",
    "\n",
    "#Input and Outer layer size to create the multi-layer\n",
    "input_layer = mnist.train.images.shape[1]\n",
    "output_classes = mnist.train.labels.shape[1]\n",
    "\n",
    "#No. of hidden layer and nodes in them\n",
    "layers = [512,256,128]\n",
    "\n",
    "#Placeholders for feeding the batches \n",
    "x = tf.placeholder(\"float\",[None,input_layer])\n",
    "y = tf.placeholder(\"float\",[None,output_classes])\n"
   ]
  },
  {
   "cell_type": "markdown",
   "metadata": {},
   "source": [
    "#### The function below will generate all the layers for the net based on  the input, output and hidden layers."
   ]
  },
  {
   "cell_type": "code",
   "execution_count": 36,
   "metadata": {
    "collapsed": true
   },
   "outputs": [],
   "source": [
    "def generate_model(n_input = input_layer,n_classes = output_classes,layers =layers):\n",
    "    \n",
    "    dimension_1 = [n_input] + layers\n",
    "    dimension_2 = layers + [n_classes]\n",
    "    \n",
    "    names = ['h' + str(i+1) for i in range(len(layers))] + ['out']\n",
    "    \n",
    "    weights_var = [tf.Variable(tf.random_normal([i,j])) for i,j in zip(dimension_1,dimension_2)]\n",
    "    biases_var  = [tf.Variable(tf.random_normal([i])) for i in (dimension_2)]\n",
    "    \n",
    "    weights_1 = dict(zip(names,weights_var))\n",
    "    biases_1 = dict(zip(names,biases_var))\n",
    "    #print(weights_1)\n",
    "    #print(biases_1)\n",
    "    model = x\n",
    "    \n",
    "    for key in sorted(weights_1):\n",
    "        #print (model)\n",
    "        model = tf.add(tf.matmul(model,weights_1[key]),biases_1[key])\n",
    "        if key != 'out':\n",
    "            model = tf.nn.relu(model)\n",
    "        #print(model)    \n",
    "    return(model)"
   ]
  },
  {
   "cell_type": "code",
   "execution_count": 37,
   "metadata": {
    "collapsed": false
   },
   "outputs": [],
   "source": [
    "#Generate the model (multi-layered net)\n",
    "pred = generate_model()\n",
    "\n",
    "#Optimization routine\n",
    "cost = tf.reduce_mean(tf.nn.softmax_cross_entropy_with_logits(pred,y))\n",
    "optimizer = tf.train.RMSPropOptimizer(0.001,0.9).minimize(cost)\n",
    "\n",
    "#Estimation of the accuracy\n",
    "correct_pred = tf.equal(tf.argmax(pred,1),tf.argmax(y,1))\n",
    "accuracy = tf.reduce_mean(tf.cast(correct_pred,tf.float32))"
   ]
  },
  {
   "cell_type": "markdown",
   "metadata": {},
   "source": [
    "### Running the net"
   ]
  },
  {
   "cell_type": "code",
   "execution_count": 38,
   "metadata": {
    "collapsed": false
   },
   "outputs": [
    {
     "name": "stdout",
     "output_type": "stream",
     "text": [
      "Cost = 14007.3212890625, Training Accuracy = 0.1171875\n",
      "Cost = 80.15953063964844, Training Accuracy = 0.98046875\n",
      "Cost = 1.3012657165527344, Training Accuracy = 0.99609375\n",
      "Cost = 3.86496950000037e-08, Training Accuracy = 1.0\n",
      "Cost = 1.2406177520751953, Training Accuracy = 0.99609375\n",
      "TEST ACCURACY = 0.9463000297546387\n"
     ]
    }
   ],
   "source": [
    "init = tf.global_variables_initializer()\n",
    "with tf.Session() as sess:\n",
    "    sess.run(init)\n",
    "    \n",
    "    for epoch in range(epochs):\n",
    "        \n",
    "        batch_x, batch_y = mnist.train.next_batch(batch_size)\n",
    "        sess.run(optimizer,feed_dict = {x:batch_x,y:batch_y})\n",
    "\n",
    "        if epoch % 1000 == 0 :\n",
    "            loss,acc = sess.run([cost,accuracy],feed_dict={x:batch_x,y:batch_y})\n",
    "            print (\"Cost = {0}, Training Accuracy = {1}\".format(loss,acc))\n",
    "            \n",
    "    test_acc = sess.run(accuracy,feed_dict={x:mnist.test.images,y:mnist.test.labels})\n",
    "    print (\"TEST ACCURACY = {}\".format(test_acc))   "
   ]
  },
  {
   "cell_type": "code",
   "execution_count": null,
   "metadata": {
    "collapsed": true
   },
   "outputs": [],
   "source": []
  }
 ],
 "metadata": {
  "kernelspec": {
   "display_name": "Python 3",
   "language": "python",
   "name": "python3"
  },
  "language_info": {
   "codemirror_mode": {
    "name": "ipython",
    "version": 3
   },
   "file_extension": ".py",
   "mimetype": "text/x-python",
   "name": "python",
   "nbconvert_exporter": "python",
   "pygments_lexer": "ipython3",
   "version": "3.5.1"
  }
 },
 "nbformat": 4,
 "nbformat_minor": 2
}
